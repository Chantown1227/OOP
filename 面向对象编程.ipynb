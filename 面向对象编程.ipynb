{
 "cells": [
  {
   "cell_type": "markdown",
   "metadata": {},
   "source": [
    "定义类，创建对象"
   ]
  },
  {
   "cell_type": "code",
   "execution_count": null,
   "metadata": {},
   "outputs": [],
   "source": [
    "#类\n",
    "#属性、方法"
   ]
  },
  {
   "cell_type": "code",
   "execution_count": 3,
   "metadata": {},
   "outputs": [],
   "source": [
    "class Hero(object): #object是Python里所有类的最顶级父类\n",
    "    def info(self): #info 是一个实例方法，第一个参数一般是self，表示实例对象本身\n",
    "        print(self)\n",
    "        print(\"英雄\")"
   ]
  },
  {
   "cell_type": "code",
   "execution_count": 4,
   "metadata": {},
   "outputs": [
    {
     "name": "stdout",
     "output_type": "stream",
     "text": [
      "<__main__.Hero object at 0x0000020FFE76E9B0>\n",
      "英雄\n"
     ]
    }
   ],
   "source": [
    "chan=Hero()\n",
    "chan.info()"
   ]
  },
  {
   "cell_type": "code",
   "execution_count": 6,
   "metadata": {},
   "outputs": [
    {
     "name": "stdout",
     "output_type": "stream",
     "text": [
      "<__main__.Hero object at 0x0000020FFE76E9B0>\n",
      "2267716970928\n"
     ]
    }
   ],
   "source": [
    "print(chan)\n",
    "print(id(chan))"
   ]
  },
  {
   "cell_type": "markdown",
   "metadata": {},
   "source": [
    "对象属性获取"
   ]
  },
  {
   "cell_type": "code",
   "execution_count": 7,
   "metadata": {},
   "outputs": [],
   "source": [
    "class Hero(object):\n",
    "    def move(self):\n",
    "        '''实例方法'''\n",
    "        print(\"正在前往事发地点\")\n",
    "    def attack(self):\n",
    "        print(\"发出了一招强力普通攻击\")"
   ]
  },
  {
   "cell_type": "code",
   "execution_count": 8,
   "metadata": {},
   "outputs": [],
   "source": [
    "chan=Hero()\n",
    "\n",
    "chan.name=\"Chan\"\n",
    "chan.hp=2600\n",
    "chan.atk=450\n",
    "chan.armor=200"
   ]
  },
  {
   "cell_type": "code",
   "execution_count": 10,
   "metadata": {},
   "outputs": [
    {
     "name": "stdout",
     "output_type": "stream",
     "text": [
      "英雄 Chan 的生命值 :2600\n",
      "英雄 Chan 的攻击力 :450\n",
      "英雄 Chan 的护甲值 :200\n"
     ]
    }
   ],
   "source": [
    "# 通过.成员选择运算符，获取对象的属性值\n",
    "print(\"英雄 %s 的生命值 :%d\" % (chan.name, chan.hp))\n",
    "print(\"英雄 %s 的攻击力 :%d\" % (chan.name, chan.atk))\n",
    "print(\"英雄 %s 的护甲值 :%d\" % (chan.name, chan.armor))"
   ]
  },
  {
   "cell_type": "code",
   "execution_count": 11,
   "metadata": {},
   "outputs": [
    {
     "name": "stdout",
     "output_type": "stream",
     "text": [
      "正在前往事发地点\n",
      "发出了一招强力普通攻击\n"
     ]
    }
   ],
   "source": [
    "#通过.成员选择运算符，获取对象的实例方法\n",
    "chan.move()\n",
    "chan.attack()"
   ]
  },
  {
   "cell_type": "markdown",
   "metadata": {},
   "source": [
    "在方法内通过self获取属性"
   ]
  },
  {
   "cell_type": "code",
   "execution_count": 14,
   "metadata": {},
   "outputs": [],
   "source": [
    "class Hero(object):\n",
    "    def move(self):\n",
    "        '''实例方法'''\n",
    "        print(\"正在前往事发地点\")\n",
    "    def attack(self):\n",
    "        print(\"发出了一招强力普通攻击\")\n",
    "    def info(self):\n",
    "        '''在实例方法中通过self获取该对象属性'''\n",
    "        print(\"英雄 %s 的生命值 :%d\" % (chan.name, chan.hp))\n",
    "        print(\"英雄 %s 的攻击力 :%d\" % (chan.name, chan.atk))\n",
    "        print(\"英雄 %s 的护甲值 :%d\" % (chan.name, chan.armor))"
   ]
  },
  {
   "cell_type": "code",
   "execution_count": 16,
   "metadata": {},
   "outputs": [],
   "source": [
    "chan=Hero()\n",
    "\n",
    "chan.name=\"Chan\"\n",
    "chan.hp=2600\n",
    "chan.atk=450\n",
    "chan.armor=200"
   ]
  },
  {
   "cell_type": "code",
   "execution_count": 17,
   "metadata": {},
   "outputs": [
    {
     "name": "stdout",
     "output_type": "stream",
     "text": [
      "正在前往事发地点\n",
      "发出了一招强力普通攻击\n",
      "英雄 Chan 的生命值 :2600\n",
      "英雄 Chan 的攻击力 :450\n",
      "英雄 Chan 的护甲值 :200\n"
     ]
    }
   ],
   "source": [
    "chan.move()\n",
    "chan.attack()\n",
    "chan.info()"
   ]
  },
  {
   "cell_type": "markdown",
   "metadata": {},
   "source": [
    "魔法方法:__init__()"
   ]
  },
  {
   "cell_type": "code",
   "execution_count": 1,
   "metadata": {},
   "outputs": [],
   "source": [
    "class Hero(object):\n",
    "    def __init__(self):\n",
    "        self.name='chan'\n",
    "        self.hp=2600\n",
    "        self.atk=450\n",
    "        self.armor=200\n",
    "    def info(self):\n",
    "        \"\"\"在类的实例方法中，通过self获取该对象的属性\"\"\"\n",
    "        print(\"英雄 %s 的生命值 :%d\" % (self.name, self.hp))\n",
    "        print(\"英雄 %s 的攻击力 :%d\" % (self.name, self.atk))\n",
    "        print(\"英雄 %s 的护甲值 :%d\" % (self.name, self.armor))\n",
    "    def move(self):\n",
    "        '''实例方法'''\n",
    "        print(\"正在前往事发地点\")\n",
    "    def attack(self):\n",
    "        print(\"发出了一招强力普通攻击\")"
   ]
  },
  {
   "cell_type": "code",
   "execution_count": 2,
   "metadata": {},
   "outputs": [
    {
     "name": "stdout",
     "output_type": "stream",
     "text": [
      "英雄 chan 的生命值 :2600\n",
      "英雄 chan 的攻击力 :450\n",
      "英雄 chan 的护甲值 :200\n",
      "正在前往事发地点\n",
      "发出了一招强力普通攻击\n"
     ]
    }
   ],
   "source": [
    "#实例化一个英雄对象，并自动调用__init__()方法\n",
    "chan=Hero()\n",
    "\n",
    "chan.info()\n",
    "chan.move()\n",
    "chan.attack()"
   ]
  },
  {
   "cell_type": "markdown",
   "metadata": {},
   "source": [
    "有参数的__init__()方法"
   ]
  },
  {
   "cell_type": "code",
   "execution_count": 11,
   "metadata": {},
   "outputs": [],
   "source": [
    "class Hero(object):\n",
    "    def __init__(self,name,skill,hp,atk,armor):\n",
    "        self.name=name\n",
    "        self.skill=skill\n",
    "        self.hp=hp\n",
    "        self.atk=atk\n",
    "        self.armor=armor\n",
    "    def info(self):\n",
    "        \"\"\"在类的实例方法中，通过self获取该对象的属性\"\"\"\n",
    "        print(\"英雄 %s 的生命值 :%d\" % (self.name, self.hp))\n",
    "        print(\"英雄 %s 的攻击力 :%d\" % (self.name, self.atk))\n",
    "        print(\"英雄 %s 的护甲值 :%d\" % (self.name, self.armor))\n",
    "    def move(self):\n",
    "        '''实例方法'''\n",
    "        print(\"正在前往事发地点\")\n",
    "    def attack(self):\n",
    "        print(\"发出了一招强力普通攻击\")"
   ]
  },
  {
   "cell_type": "code",
   "execution_count": 14,
   "metadata": {},
   "outputs": [
    {
     "name": "stdout",
     "output_type": "stream",
     "text": [
      "英雄 Chan 的生命值 :2600\n",
      "英雄 Chan 的攻击力 :450\n",
      "英雄 Chan 的护甲值 :200\n",
      "正在前往事发地点\n",
      "发出了一招强力普通攻击\n",
      "<__main__.Hero object at 0x0000020216048F98>\n"
     ]
    }
   ],
   "source": [
    "#实例化一个英雄对象，并自动调用__init__()方法\n",
    "chan=Hero(\"Chan\",\"IT\",2600,450,200)\n",
    "\n",
    "chan.info()\n",
    "chan.move()\n",
    "chan.attack()\n",
    "\n",
    "print(chan)"
   ]
  },
  {
   "cell_type": "markdown",
   "metadata": {},
   "source": [
    "魔法方法__str__()"
   ]
  },
  {
   "cell_type": "markdown",
   "metadata": {},
   "source": [
    "当使用print输出对象的时候，默认打印对象的内存地址。如果类定义了__str__(self)方法，那么就会打印从在这个方法中 return 的数据"
   ]
  },
  {
   "cell_type": "code",
   "execution_count": 21,
   "metadata": {},
   "outputs": [],
   "source": [
    "class Hero(object):\n",
    "    \"\"\"定义了一个英雄类，可以移动和攻击\"\"\"\n",
    "    def __init__(self,name,skill,hp,atk,armor):\n",
    "        self.name=name\n",
    "        self.skill=skill\n",
    "        self.hp=hp\n",
    "        self.atk=atk\n",
    "        self.armor=armor\n",
    "    def move(self):\n",
    "        '''实例方法'''\n",
    "        print(\"%s 正在前往事发地点...\" % self.name)\n",
    "    def attack(self):\n",
    "        print(\"发出了一招强力的%s...\" % self.skill)\n",
    "        \n",
    "    def __str__(self):\n",
    "        \"\"\"\n",
    "            这个方法是一个魔法方法 (Magic Method) ，用来显示信息\n",
    "            该方法需要 return 一个数据，并且只有self一个参数，当在类的外部 print(对象) 则打印这个数据\n",
    "        \"\"\"\n",
    "        return \"英雄 <%s> 数据： 生命值 %d, 攻击力 %d, 护甲值 %d\" % (self.name, self.hp, self.atk, self.armor)"
   ]
  },
  {
   "cell_type": "code",
   "execution_count": 22,
   "metadata": {},
   "outputs": [
    {
     "name": "stdout",
     "output_type": "stream",
     "text": [
      "英雄 <Chan> 数据： 生命值 2600, 攻击力 450, 护甲值 200\n",
      "定义了一个英雄类，可以移动和攻击\n"
     ]
    }
   ],
   "source": [
    "chan=Hero(\"Chan\",\"IT\",2600,450,200)\n",
    "\n",
    "print(chan)\n",
    "#查看类的文档说明，也就是类的注释\n",
    "print(chan.__doc__)"
   ]
  },
  {
   "cell_type": "markdown",
   "metadata": {},
   "source": [
    "魔法方法__del__()"
   ]
  },
  {
   "cell_type": "markdown",
   "metadata": {},
   "source": [
    "创建对象后，python解释器默认调用__init__()方法；\n",
    "当删除对象时，python解释器也会默认调用一个方法，这个方法为__del__()方法"
   ]
  },
  {
   "cell_type": "code",
   "execution_count": 23,
   "metadata": {},
   "outputs": [],
   "source": [
    "class Hero(object):\n",
    "    #初始化方法\n",
    "    #创建完对象后会自动被调用\n",
    "    def __init__(self,name):\n",
    "        print('__init__方法被调用')\n",
    "        self.name=name\n",
    "    #当对象被删除时，会自动被调用\n",
    "    def __del__(self):\n",
    "        print(\"__del__方法被调用\")\n",
    "        print(\"%s 被 GM 干掉了...\" % self.name)"
   ]
  },
  {
   "cell_type": "code",
   "execution_count": 24,
   "metadata": {},
   "outputs": [
    {
     "name": "stdout",
     "output_type": "stream",
     "text": [
      "__init__方法被调用\n",
      "2207982520640 被删除1次\n",
      "__del__方法被调用\n",
      "泰达米尔 被 GM 干掉了...\n"
     ]
    }
   ],
   "source": [
    "#创建对象\n",
    "taidamier=Hero('泰达米尔')\n",
    "#删除对象\n",
    "print(\"%d 被删除1次\" % id(taidamier))\n",
    "del(taidamier)"
   ]
  },
  {
   "cell_type": "code",
   "execution_count": null,
   "metadata": {},
   "outputs": [],
   "source": []
  }
 ],
 "metadata": {
  "kernelspec": {
   "display_name": "Python 3",
   "language": "python",
   "name": "python3"
  },
  "language_info": {
   "codemirror_mode": {
    "name": "ipython",
    "version": 3
   },
   "file_extension": ".py",
   "mimetype": "text/x-python",
   "name": "python",
   "nbconvert_exporter": "python",
   "pygments_lexer": "ipython3",
   "version": "3.7.0"
  }
 },
 "nbformat": 4,
 "nbformat_minor": 2
}
